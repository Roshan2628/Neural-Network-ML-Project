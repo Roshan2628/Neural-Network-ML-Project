{
 "cells": [
  {
   "cell_type": "markdown",
   "id": "62c4e1af-ff24-4058-88f2-f3a3eadc383f",
   "metadata": {},
   "source": [
    "## Predicting turbine energy yield (TEY) using ambient variables as features."
   ]
  },
  {
   "cell_type": "code",
   "execution_count": 1,
   "id": "7fbd5958-243d-4a62-822b-6e6d25254137",
   "metadata": {},
   "outputs": [],
   "source": [
    "# Firstly We Have to IMPORT the Libraries -\n",
    "import pandas as pd\n",
    "import seaborn as sns\n",
    "import matplotlib.pyplot as plt\n",
    "from sklearn.model_selection import train_test_split\n",
    "from sklearn.neural_network import MLPClassifier\n",
    "from sklearn.metrics import accuracy_score, confusion_matrix"
   ]
  },
  {
   "cell_type": "code",
   "execution_count": 3,
   "id": "f913982d-c125-4b82-a0b8-a4f571a82669",
   "metadata": {},
   "outputs": [
    {
     "data": {
      "text/html": [
       "<div>\n",
       "<style scoped>\n",
       "    .dataframe tbody tr th:only-of-type {\n",
       "        vertical-align: middle;\n",
       "    }\n",
       "\n",
       "    .dataframe tbody tr th {\n",
       "        vertical-align: top;\n",
       "    }\n",
       "\n",
       "    .dataframe thead th {\n",
       "        text-align: right;\n",
       "    }\n",
       "</style>\n",
       "<table border=\"1\" class=\"dataframe\">\n",
       "  <thead>\n",
       "    <tr style=\"text-align: right;\">\n",
       "      <th></th>\n",
       "      <th>AT</th>\n",
       "      <th>AP</th>\n",
       "      <th>AH</th>\n",
       "      <th>AFDP</th>\n",
       "      <th>GTEP</th>\n",
       "      <th>TIT</th>\n",
       "      <th>TAT</th>\n",
       "      <th>TEY</th>\n",
       "      <th>CDP</th>\n",
       "      <th>CO</th>\n",
       "      <th>NOX</th>\n",
       "    </tr>\n",
       "  </thead>\n",
       "  <tbody>\n",
       "    <tr>\n",
       "      <th>0</th>\n",
       "      <td>6.8594</td>\n",
       "      <td>1007.9</td>\n",
       "      <td>96.799</td>\n",
       "      <td>3.5000</td>\n",
       "      <td>19.663</td>\n",
       "      <td>1059.2</td>\n",
       "      <td>550.0</td>\n",
       "      <td>114.70</td>\n",
       "      <td>10.605</td>\n",
       "      <td>3.1547</td>\n",
       "      <td>82.722</td>\n",
       "    </tr>\n",
       "    <tr>\n",
       "      <th>1</th>\n",
       "      <td>6.7850</td>\n",
       "      <td>1008.4</td>\n",
       "      <td>97.118</td>\n",
       "      <td>3.4998</td>\n",
       "      <td>19.728</td>\n",
       "      <td>1059.3</td>\n",
       "      <td>550.0</td>\n",
       "      <td>114.72</td>\n",
       "      <td>10.598</td>\n",
       "      <td>3.2363</td>\n",
       "      <td>82.776</td>\n",
       "    </tr>\n",
       "  </tbody>\n",
       "</table>\n",
       "</div>"
      ],
      "text/plain": [
       "       AT      AP      AH    AFDP    GTEP     TIT    TAT     TEY     CDP  \\\n",
       "0  6.8594  1007.9  96.799  3.5000  19.663  1059.2  550.0  114.70  10.605   \n",
       "1  6.7850  1008.4  97.118  3.4998  19.728  1059.3  550.0  114.72  10.598   \n",
       "\n",
       "       CO     NOX  \n",
       "0  3.1547  82.722  \n",
       "1  3.2363  82.776  "
      ]
     },
     "execution_count": 3,
     "metadata": {},
     "output_type": "execute_result"
    }
   ],
   "source": [
    "# Importing the Data from our system - \n",
    "data = pd.read_csv('D:Top Mentor/Classes Details/5th May/Project  - 12 Neural Network/gas_turbines.csv')\n",
    "data.head(2)"
   ]
  },
  {
   "cell_type": "code",
   "execution_count": 4,
   "id": "100067be-c5b0-4880-920a-9089bd5cc5e4",
   "metadata": {},
   "outputs": [
    {
     "name": "stdout",
     "output_type": "stream",
     "text": [
      "       AT      AP      AH    AFDP    GTEP     TIT    TAT     TEY     CDP  \\\n",
      "0  6.8594  1007.9  96.799  3.5000  19.663  1059.2  550.0  114.70  10.605   \n",
      "1  6.7850  1008.4  97.118  3.4998  19.728  1059.3  550.0  114.72  10.598   \n",
      "\n",
      "       CO     NOX  \n",
      "0  3.1547  82.722  \n",
      "1  3.2363  82.776  \n"
     ]
    }
   ],
   "source": [
    "## Firstly We have to copy this data as our data keep safe - \n",
    "df = data.copy()\n",
    "print(df.head(2))"
   ]
  },
  {
   "cell_type": "code",
   "execution_count": 6,
   "id": "682dd2aa-e6eb-4d23-8bbb-ba351c2c886e",
   "metadata": {},
   "outputs": [
    {
     "name": "stdout",
     "output_type": "stream",
     "text": [
      "no of columns -\n",
      "  Index(['AT', 'AP', 'AH', 'AFDP', 'GTEP', 'TIT', 'TAT', 'TEY', 'CDP', 'CO',\n",
      "       'NOX'],\n",
      "      dtype='object')\n",
      "no of shapes -  (15039, 11)\n",
      "no of lenght -  15039\n",
      "no of datatype - \n",
      " AT      float64\n",
      "AP      float64\n",
      "AH      float64\n",
      "AFDP    float64\n",
      "GTEP    float64\n",
      "TIT     float64\n",
      "TAT     float64\n",
      "TEY     float64\n",
      "CDP     float64\n",
      "CO      float64\n",
      "NOX     float64\n",
      "dtype: object\n"
     ]
    }
   ],
   "source": [
    "##Checking Data Parameter :-\n",
    "print('no of columns -\\n ' , df.columns)\n",
    "print('no of shapes - ' , df.shape)\n",
    "print('no of lenght - ' , len(df))\n",
    "print('no of datatype - \\n' , df.dtypes)"
   ]
  },
  {
   "cell_type": "code",
   "execution_count": 7,
   "id": "a972db1b-ece7-4e61-9274-8f469596e999",
   "metadata": {},
   "outputs": [
    {
     "name": "stdout",
     "output_type": "stream",
     "text": [
      "Null Values - AT      0\n",
      "AP      0\n",
      "AH      0\n",
      "AFDP    0\n",
      "GTEP    0\n",
      "TIT     0\n",
      "TAT     0\n",
      "TEY     0\n",
      "CDP     0\n",
      "CO      0\n",
      "NOX     0\n",
      "dtype: int64\n"
     ]
    }
   ],
   "source": [
    "# Checking Null Values -\n",
    "print('Null Values -',df.isnull().sum())"
   ]
  },
  {
   "cell_type": "code",
   "execution_count": 8,
   "id": "4f3e4f88-be97-4147-bfe6-33ac8e38f64a",
   "metadata": {
    "scrolled": true
   },
   "outputs": [
    {
     "name": "stdout",
     "output_type": "stream",
     "text": [
      "DataSet Information -\n",
      "                  AT           AP            AH          AFDP          GTEP  \\\n",
      "count  15039.000000  15039.00000  15039.000000  15039.000000  15039.000000   \n",
      "mean      17.764381   1013.19924     79.124174      4.200294     25.419061   \n",
      "std        7.574323      6.41076     13.793439      0.760197      4.173916   \n",
      "min        0.522300    985.85000     30.344000      2.087400     17.878000   \n",
      "25%       11.408000   1008.90000     69.750000      3.723900     23.294000   \n",
      "50%       18.186000   1012.80000     82.266000      4.186200     25.082000   \n",
      "75%       23.862500   1016.90000     90.043500      4.550900     27.184000   \n",
      "max       34.929000   1034.20000    100.200000      7.610600     37.402000   \n",
      "\n",
      "                TIT           TAT           TEY           CDP            CO  \\\n",
      "count  15039.000000  15039.000000  15039.000000  15039.000000  15039.000000   \n",
      "mean    1083.798770    545.396183    134.188464     12.102353      1.972499   \n",
      "std       16.527806      7.866803     15.829717      1.103196      2.222206   \n",
      "min     1000.800000    512.450000    100.170000      9.904400      0.000388   \n",
      "25%     1079.600000    542.170000    127.985000     11.622000      0.858055   \n",
      "50%     1088.700000    549.890000    133.780000     12.025000      1.390200   \n",
      "75%     1096.000000    550.060000    140.895000     12.578000      2.160400   \n",
      "max     1100.800000    550.610000    174.610000     15.081000     44.103000   \n",
      "\n",
      "                NOX  \n",
      "count  15039.000000  \n",
      "mean      68.190934  \n",
      "std       10.470586  \n",
      "min       27.765000  \n",
      "25%       61.303500  \n",
      "50%       66.601000  \n",
      "75%       73.935500  \n",
      "max      119.890000  \n"
     ]
    }
   ],
   "source": [
    "#  Checking Data Information \n",
    "print('DataSet Information -\\n',df.describe())"
   ]
  },
  {
   "cell_type": "code",
   "execution_count": 10,
   "id": "d1a97208-8e4e-46af-8d34-07abc180da5b",
   "metadata": {},
   "outputs": [],
   "source": [
    "## Now we starting the training & Testing for data - \n",
    "X = df.drop('TEY',axis = 1)\n",
    "y = df['TEY']"
   ]
  },
  {
   "cell_type": "code",
   "execution_count": 12,
   "id": "4ee2623f-ed4e-4208-904a-3d4aa4548a63",
   "metadata": {},
   "outputs": [
    {
     "data": {
      "text/html": [
       "<div>\n",
       "<style scoped>\n",
       "    .dataframe tbody tr th:only-of-type {\n",
       "        vertical-align: middle;\n",
       "    }\n",
       "\n",
       "    .dataframe tbody tr th {\n",
       "        vertical-align: top;\n",
       "    }\n",
       "\n",
       "    .dataframe thead th {\n",
       "        text-align: right;\n",
       "    }\n",
       "</style>\n",
       "<table border=\"1\" class=\"dataframe\">\n",
       "  <thead>\n",
       "    <tr style=\"text-align: right;\">\n",
       "      <th></th>\n",
       "      <th>AT</th>\n",
       "      <th>AP</th>\n",
       "      <th>AH</th>\n",
       "      <th>AFDP</th>\n",
       "      <th>GTEP</th>\n",
       "      <th>TIT</th>\n",
       "      <th>TAT</th>\n",
       "      <th>CDP</th>\n",
       "      <th>CO</th>\n",
       "      <th>NOX</th>\n",
       "    </tr>\n",
       "  </thead>\n",
       "  <tbody>\n",
       "    <tr>\n",
       "      <th>0</th>\n",
       "      <td>6.8594</td>\n",
       "      <td>1007.9</td>\n",
       "      <td>96.799</td>\n",
       "      <td>3.5000</td>\n",
       "      <td>19.663</td>\n",
       "      <td>1059.2</td>\n",
       "      <td>550.0</td>\n",
       "      <td>10.605</td>\n",
       "      <td>3.1547</td>\n",
       "      <td>82.722</td>\n",
       "    </tr>\n",
       "    <tr>\n",
       "      <th>1</th>\n",
       "      <td>6.7850</td>\n",
       "      <td>1008.4</td>\n",
       "      <td>97.118</td>\n",
       "      <td>3.4998</td>\n",
       "      <td>19.728</td>\n",
       "      <td>1059.3</td>\n",
       "      <td>550.0</td>\n",
       "      <td>10.598</td>\n",
       "      <td>3.2363</td>\n",
       "      <td>82.776</td>\n",
       "    </tr>\n",
       "  </tbody>\n",
       "</table>\n",
       "</div>"
      ],
      "text/plain": [
       "       AT      AP      AH    AFDP    GTEP     TIT    TAT     CDP      CO  \\\n",
       "0  6.8594  1007.9  96.799  3.5000  19.663  1059.2  550.0  10.605  3.1547   \n",
       "1  6.7850  1008.4  97.118  3.4998  19.728  1059.3  550.0  10.598  3.2363   \n",
       "\n",
       "      NOX  \n",
       "0  82.722  \n",
       "1  82.776  "
      ]
     },
     "execution_count": 12,
     "metadata": {},
     "output_type": "execute_result"
    }
   ],
   "source": [
    "X.head(2)"
   ]
  },
  {
   "cell_type": "code",
   "execution_count": 13,
   "id": "995e1fd6-cb18-4d1e-8415-3547c022dd3d",
   "metadata": {},
   "outputs": [
    {
     "data": {
      "text/plain": [
       "0    114.70\n",
       "1    114.72\n",
       "Name: TEY, dtype: float64"
      ]
     },
     "execution_count": 13,
     "metadata": {},
     "output_type": "execute_result"
    }
   ],
   "source": [
    "y.head(2)"
   ]
  },
  {
   "cell_type": "code",
   "execution_count": 14,
   "id": "3c5978ba-5f85-4499-9221-cdf9f89bc209",
   "metadata": {},
   "outputs": [],
   "source": [
    "X_train , X_test , y_train , y_test =train_test_split(X,y,test_size=0.20,random_state=12)"
   ]
  },
  {
   "cell_type": "code",
   "execution_count": 15,
   "id": "2003c3b1-a21f-4153-ba0c-eae8fd2c7a5b",
   "metadata": {},
   "outputs": [
    {
     "data": {
      "text/plain": [
       "((12031, 10), (12031,))"
      ]
     },
     "execution_count": 15,
     "metadata": {},
     "output_type": "execute_result"
    }
   ],
   "source": [
    "X_train.shape , y_train.shape"
   ]
  },
  {
   "cell_type": "code",
   "execution_count": 18,
   "id": "4eaf7b2a-8298-43b3-9dd1-885cb1adfdc3",
   "metadata": {},
   "outputs": [
    {
     "data": {
      "text/plain": [
       "((3008, 10), (3008,))"
      ]
     },
     "execution_count": 18,
     "metadata": {},
     "output_type": "execute_result"
    }
   ],
   "source": [
    "X_test.shape , y_test.shape"
   ]
  },
  {
   "cell_type": "code",
   "execution_count": 63,
   "id": "1c96ef56-bcf7-44ec-bd4c-ca8dae5ffd9b",
   "metadata": {},
   "outputs": [
    {
     "data": {
      "text/html": [
       "<style>#sk-container-id-5 {color: black;background-color: white;}#sk-container-id-5 pre{padding: 0;}#sk-container-id-5 div.sk-toggleable {background-color: white;}#sk-container-id-5 label.sk-toggleable__label {cursor: pointer;display: block;width: 100%;margin-bottom: 0;padding: 0.3em;box-sizing: border-box;text-align: center;}#sk-container-id-5 label.sk-toggleable__label-arrow:before {content: \"▸\";float: left;margin-right: 0.25em;color: #696969;}#sk-container-id-5 label.sk-toggleable__label-arrow:hover:before {color: black;}#sk-container-id-5 div.sk-estimator:hover label.sk-toggleable__label-arrow:before {color: black;}#sk-container-id-5 div.sk-toggleable__content {max-height: 0;max-width: 0;overflow: hidden;text-align: left;background-color: #f0f8ff;}#sk-container-id-5 div.sk-toggleable__content pre {margin: 0.2em;color: black;border-radius: 0.25em;background-color: #f0f8ff;}#sk-container-id-5 input.sk-toggleable__control:checked~div.sk-toggleable__content {max-height: 200px;max-width: 100%;overflow: auto;}#sk-container-id-5 input.sk-toggleable__control:checked~label.sk-toggleable__label-arrow:before {content: \"▾\";}#sk-container-id-5 div.sk-estimator input.sk-toggleable__control:checked~label.sk-toggleable__label {background-color: #d4ebff;}#sk-container-id-5 div.sk-label input.sk-toggleable__control:checked~label.sk-toggleable__label {background-color: #d4ebff;}#sk-container-id-5 input.sk-hidden--visually {border: 0;clip: rect(1px 1px 1px 1px);clip: rect(1px, 1px, 1px, 1px);height: 1px;margin: -1px;overflow: hidden;padding: 0;position: absolute;width: 1px;}#sk-container-id-5 div.sk-estimator {font-family: monospace;background-color: #f0f8ff;border: 1px dotted black;border-radius: 0.25em;box-sizing: border-box;margin-bottom: 0.5em;}#sk-container-id-5 div.sk-estimator:hover {background-color: #d4ebff;}#sk-container-id-5 div.sk-parallel-item::after {content: \"\";width: 100%;border-bottom: 1px solid gray;flex-grow: 1;}#sk-container-id-5 div.sk-label:hover label.sk-toggleable__label {background-color: #d4ebff;}#sk-container-id-5 div.sk-serial::before {content: \"\";position: absolute;border-left: 1px solid gray;box-sizing: border-box;top: 0;bottom: 0;left: 50%;z-index: 0;}#sk-container-id-5 div.sk-serial {display: flex;flex-direction: column;align-items: center;background-color: white;padding-right: 0.2em;padding-left: 0.2em;position: relative;}#sk-container-id-5 div.sk-item {position: relative;z-index: 1;}#sk-container-id-5 div.sk-parallel {display: flex;align-items: stretch;justify-content: center;background-color: white;position: relative;}#sk-container-id-5 div.sk-item::before, #sk-container-id-5 div.sk-parallel-item::before {content: \"\";position: absolute;border-left: 1px solid gray;box-sizing: border-box;top: 0;bottom: 0;left: 50%;z-index: -1;}#sk-container-id-5 div.sk-parallel-item {display: flex;flex-direction: column;z-index: 1;position: relative;background-color: white;}#sk-container-id-5 div.sk-parallel-item:first-child::after {align-self: flex-end;width: 50%;}#sk-container-id-5 div.sk-parallel-item:last-child::after {align-self: flex-start;width: 50%;}#sk-container-id-5 div.sk-parallel-item:only-child::after {width: 0;}#sk-container-id-5 div.sk-dashed-wrapped {border: 1px dashed gray;margin: 0 0.4em 0.5em 0.4em;box-sizing: border-box;padding-bottom: 0.4em;background-color: white;}#sk-container-id-5 div.sk-label label {font-family: monospace;font-weight: bold;display: inline-block;line-height: 1.2em;}#sk-container-id-5 div.sk-label-container {text-align: center;}#sk-container-id-5 div.sk-container {/* jupyter's `normalize.less` sets `[hidden] { display: none; }` but bootstrap.min.css set `[hidden] { display: none !important; }` so we also need the `!important` here to be able to override the default hidden behavior on the sphinx rendered scikit-learn.org. See: https://github.com/scikit-learn/scikit-learn/issues/21755 */display: inline-block !important;position: relative;}#sk-container-id-5 div.sk-text-repr-fallback {display: none;}</style><div id=\"sk-container-id-5\" class=\"sk-top-container\"><div class=\"sk-text-repr-fallback\"><pre>MLPRegressor(hidden_layer_sizes=(30, 3), max_iter=1000)</pre><b>In a Jupyter environment, please rerun this cell to show the HTML representation or trust the notebook. <br />On GitHub, the HTML representation is unable to render, please try loading this page with nbviewer.org.</b></div><div class=\"sk-container\" hidden><div class=\"sk-item\"><div class=\"sk-estimator sk-toggleable\"><input class=\"sk-toggleable__control sk-hidden--visually\" id=\"sk-estimator-id-5\" type=\"checkbox\" checked><label for=\"sk-estimator-id-5\" class=\"sk-toggleable__label sk-toggleable__label-arrow\">MLPRegressor</label><div class=\"sk-toggleable__content\"><pre>MLPRegressor(hidden_layer_sizes=(30, 3), max_iter=1000)</pre></div></div></div></div></div>"
      ],
      "text/plain": [
       "MLPRegressor(hidden_layer_sizes=(30, 3), max_iter=1000)"
      ]
     },
     "execution_count": 63,
     "metadata": {},
     "output_type": "execute_result"
    }
   ],
   "source": [
    "# Initialize the model with similar parameters\n",
    "model = MLPRegressor(hidden_layer_sizes=(30, 3), activation='relu', max_iter=1000)\n",
    "\n",
    "# Train the model\n",
    "model.fit(X_train, y_train)"
   ]
  },
  {
   "cell_type": "code",
   "execution_count": 64,
   "id": "2c3189c6-062f-4723-bd49-a7ba75585293",
   "metadata": {},
   "outputs": [
    {
     "data": {
      "text/plain": [
       "array([109.76447036, 125.94653572, 132.31610289, ..., 134.57089193,\n",
       "       132.5524954 , 143.84606136])"
      ]
     },
     "execution_count": 64,
     "metadata": {},
     "output_type": "execute_result"
    }
   ],
   "source": [
    "pred =model.predict(X_test)\n",
    "pred"
   ]
  },
  {
   "cell_type": "code",
   "execution_count": 65,
   "id": "f46060b2-d204-4a68-91c0-86278751e5de",
   "metadata": {},
   "outputs": [
    {
     "name": "stdout",
     "output_type": "stream",
     "text": [
      "Accuracy: 100.0\n"
     ]
    }
   ],
   "source": [
    "import numpy as np\n",
    "\n",
    "# Convert continuous y_train to binary (classification)\n",
    "threshold = 90  # Define a threshold based on your data\n",
    "y_train_class = np.where(y_train >= threshold, 1, 0)\n",
    "y_test_class = np.where(y_test >= threshold, 1, 0)\n",
    "\n",
    "# Create and train the MLPClassifier\n",
    "model = MLPClassifier()  # Customize as needed\n",
    "model.fit(X_train, y_train_class)\n",
    "\n",
    "# Get binary predictions\n",
    "pred = model.predict(X_test)\n",
    "\n",
    "# Calculate accuracy\n",
    "accuracy = accuracy_score(y_test_class, pred) * 100\n",
    "print(\"Accuracy:\", accuracy)\n"
   ]
  },
  {
   "cell_type": "code",
   "execution_count": 68,
   "id": "b0f73a04-ccd2-48a9-8829-ec9d8e5a5bf4",
   "metadata": {},
   "outputs": [
    {
     "name": "stdout",
     "output_type": "stream",
     "text": [
      "[[3008]]\n"
     ]
    }
   ],
   "source": [
    "# Calculate the confusion matrix\n",
    "conf_matrix = confusion_matrix(y_test_class, pred)\n",
    "print(conf_matrix)"
   ]
  },
  {
   "cell_type": "code",
   "execution_count": null,
   "id": "9a0c39a1-381a-4ada-8784-f79c235e2c8f",
   "metadata": {},
   "outputs": [],
   "source": []
  }
 ],
 "metadata": {
  "kernelspec": {
   "display_name": "Python 3 (ipykernel)",
   "language": "python",
   "name": "python3"
  },
  "language_info": {
   "codemirror_mode": {
    "name": "ipython",
    "version": 3
   },
   "file_extension": ".py",
   "mimetype": "text/x-python",
   "name": "python",
   "nbconvert_exporter": "python",
   "pygments_lexer": "ipython3",
   "version": "3.11.7"
  }
 },
 "nbformat": 4,
 "nbformat_minor": 5
}
