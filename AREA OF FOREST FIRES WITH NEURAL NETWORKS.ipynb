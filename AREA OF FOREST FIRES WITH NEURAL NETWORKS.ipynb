{
 "cells": [
  {
   "cell_type": "markdown",
   "id": "f82d1073-ff2b-4e9e-a00e-d20bbe7a1c83",
   "metadata": {},
   "source": [
    "## Forest Area Burn DA with Neural Networks "
   ]
  },
  {
   "cell_type": "markdown",
   "id": "06a9a7b3-8686-407b-9415-4e88c9f18993",
   "metadata": {},
   "source": [
    "## Forest Area Burn DA with Neural Networks "
   ]
  },
  {
   "cell_type": "code",
   "execution_count": 1,
   "id": "9f64e7a9-a4c6-4802-a571-d7fc1a2a83f0",
   "metadata": {},
   "outputs": [],
   "source": [
    "# Firstly We Have to IMPORT the Libraries -\n",
    "import pandas as pd\n",
    "import seaborn as sns\n",
    "import matplotlib.pyplot as plt\n",
    "from sklearn.model_selection import train_test_split\n",
    "from sklearn.neural_network import MLPClassifier\n",
    "from sklearn.metrics import accuracy_score, confusion_matrix"
   ]
  },
  {
   "cell_type": "code",
   "execution_count": 2,
   "id": "788d0990-49a9-4752-a8ba-5b8bb826bac3",
   "metadata": {},
   "outputs": [
    {
     "data": {
      "text/html": [
       "<div>\n",
       "<style scoped>\n",
       "    .dataframe tbody tr th:only-of-type {\n",
       "        vertical-align: middle;\n",
       "    }\n",
       "\n",
       "    .dataframe tbody tr th {\n",
       "        vertical-align: top;\n",
       "    }\n",
       "\n",
       "    .dataframe thead th {\n",
       "        text-align: right;\n",
       "    }\n",
       "</style>\n",
       "<table border=\"1\" class=\"dataframe\">\n",
       "  <thead>\n",
       "    <tr style=\"text-align: right;\">\n",
       "      <th></th>\n",
       "      <th>month</th>\n",
       "      <th>day</th>\n",
       "      <th>FFMC</th>\n",
       "      <th>DMC</th>\n",
       "      <th>DC</th>\n",
       "      <th>ISI</th>\n",
       "      <th>temp</th>\n",
       "      <th>RH</th>\n",
       "      <th>wind</th>\n",
       "      <th>rain</th>\n",
       "      <th>...</th>\n",
       "      <th>monthfeb</th>\n",
       "      <th>monthjan</th>\n",
       "      <th>monthjul</th>\n",
       "      <th>monthjun</th>\n",
       "      <th>monthmar</th>\n",
       "      <th>monthmay</th>\n",
       "      <th>monthnov</th>\n",
       "      <th>monthoct</th>\n",
       "      <th>monthsep</th>\n",
       "      <th>size_category</th>\n",
       "    </tr>\n",
       "  </thead>\n",
       "  <tbody>\n",
       "    <tr>\n",
       "      <th>0</th>\n",
       "      <td>mar</td>\n",
       "      <td>fri</td>\n",
       "      <td>86.2</td>\n",
       "      <td>26.2</td>\n",
       "      <td>94.3</td>\n",
       "      <td>5.1</td>\n",
       "      <td>8.2</td>\n",
       "      <td>51</td>\n",
       "      <td>6.7</td>\n",
       "      <td>0.0</td>\n",
       "      <td>...</td>\n",
       "      <td>0</td>\n",
       "      <td>0</td>\n",
       "      <td>0</td>\n",
       "      <td>0</td>\n",
       "      <td>1</td>\n",
       "      <td>0</td>\n",
       "      <td>0</td>\n",
       "      <td>0</td>\n",
       "      <td>0</td>\n",
       "      <td>small</td>\n",
       "    </tr>\n",
       "    <tr>\n",
       "      <th>1</th>\n",
       "      <td>oct</td>\n",
       "      <td>tue</td>\n",
       "      <td>90.6</td>\n",
       "      <td>35.4</td>\n",
       "      <td>669.1</td>\n",
       "      <td>6.7</td>\n",
       "      <td>18.0</td>\n",
       "      <td>33</td>\n",
       "      <td>0.9</td>\n",
       "      <td>0.0</td>\n",
       "      <td>...</td>\n",
       "      <td>0</td>\n",
       "      <td>0</td>\n",
       "      <td>0</td>\n",
       "      <td>0</td>\n",
       "      <td>0</td>\n",
       "      <td>0</td>\n",
       "      <td>0</td>\n",
       "      <td>1</td>\n",
       "      <td>0</td>\n",
       "      <td>small</td>\n",
       "    </tr>\n",
       "  </tbody>\n",
       "</table>\n",
       "<p>2 rows × 31 columns</p>\n",
       "</div>"
      ],
      "text/plain": [
       "  month  day  FFMC   DMC     DC  ISI  temp  RH  wind  rain  ...  monthfeb  \\\n",
       "0   mar  fri  86.2  26.2   94.3  5.1   8.2  51   6.7   0.0  ...         0   \n",
       "1   oct  tue  90.6  35.4  669.1  6.7  18.0  33   0.9   0.0  ...         0   \n",
       "\n",
       "   monthjan  monthjul  monthjun  monthmar  monthmay  monthnov  monthoct  \\\n",
       "0         0         0         0         1         0         0         0   \n",
       "1         0         0         0         0         0         0         1   \n",
       "\n",
       "   monthsep  size_category  \n",
       "0         0          small  \n",
       "1         0          small  \n",
       "\n",
       "[2 rows x 31 columns]"
      ]
     },
     "execution_count": 2,
     "metadata": {},
     "output_type": "execute_result"
    }
   ],
   "source": [
    "# Importing the Data from our system - \n",
    "data = pd.read_csv('D:/Top Mentor/Classes Details/5th May/Project  - 12 Neural Network/forestfires.csv')\n",
    "data.head(2)"
   ]
  },
  {
   "cell_type": "code",
   "execution_count": 3,
   "id": "4f6321cb-b193-49d9-a98a-8627aef94c43",
   "metadata": {},
   "outputs": [
    {
     "name": "stdout",
     "output_type": "stream",
     "text": [
      "  month  day  FFMC   DMC     DC  ISI  temp  RH  wind  rain  ...  monthfeb  \\\n",
      "0   mar  fri  86.2  26.2   94.3  5.1   8.2  51   6.7   0.0  ...         0   \n",
      "1   oct  tue  90.6  35.4  669.1  6.7  18.0  33   0.9   0.0  ...         0   \n",
      "\n",
      "   monthjan  monthjul  monthjun  monthmar  monthmay  monthnov  monthoct  \\\n",
      "0         0         0         0         1         0         0         0   \n",
      "1         0         0         0         0         0         0         1   \n",
      "\n",
      "   monthsep  size_category  \n",
      "0         0          small  \n",
      "1         0          small  \n",
      "\n",
      "[2 rows x 31 columns]\n"
     ]
    }
   ],
   "source": [
    "## Firstly We have to copy this data as our data keep safe - \n",
    "df = data.copy()\n",
    "print(df.head(2))"
   ]
  },
  {
   "cell_type": "code",
   "execution_count": 5,
   "id": "81a021fc-1049-462a-8ed6-c35931e51bd9",
   "metadata": {
    "scrolled": true
   },
   "outputs": [
    {
     "name": "stdout",
     "output_type": "stream",
     "text": [
      "no of columns -  Index(['month', 'day', 'FFMC', 'DMC', 'DC', 'ISI', 'temp', 'RH', 'wind',\n",
      "       'rain', 'area', 'dayfri', 'daymon', 'daysat', 'daysun', 'daythu',\n",
      "       'daytue', 'daywed', 'monthapr', 'monthaug', 'monthdec', 'monthfeb',\n",
      "       'monthjan', 'monthjul', 'monthjun', 'monthmar', 'monthmay', 'monthnov',\n",
      "       'monthoct', 'monthsep', 'size_category'],\n",
      "      dtype='object')\n",
      "no of shapes -  (517, 31)\n",
      "no of lenght -  517\n",
      "no of datatype - \n",
      " month             object\n",
      "day               object\n",
      "FFMC             float64\n",
      "DMC              float64\n",
      "DC               float64\n",
      "ISI              float64\n",
      "temp             float64\n",
      "RH                 int64\n",
      "wind             float64\n",
      "rain             float64\n",
      "area             float64\n",
      "dayfri             int64\n",
      "daymon             int64\n",
      "daysat             int64\n",
      "daysun             int64\n",
      "daythu             int64\n",
      "daytue             int64\n",
      "daywed             int64\n",
      "monthapr           int64\n",
      "monthaug           int64\n",
      "monthdec           int64\n",
      "monthfeb           int64\n",
      "monthjan           int64\n",
      "monthjul           int64\n",
      "monthjun           int64\n",
      "monthmar           int64\n",
      "monthmay           int64\n",
      "monthnov           int64\n",
      "monthoct           int64\n",
      "monthsep           int64\n",
      "size_category     object\n",
      "dtype: object\n"
     ]
    }
   ],
   "source": [
    "##Checking Data Parameter :-\n",
    "print('no of columns - ' , df.columns)\n",
    "print('no of shapes - ' , df.shape)\n",
    "print('no of lenght - ' , len(df))\n",
    "print('no of datatype - \\n' , df.dtypes)"
   ]
  },
  {
   "cell_type": "code",
   "execution_count": 6,
   "id": "101222f7-0014-414c-a515-e57b994e275c",
   "metadata": {
    "scrolled": true
   },
   "outputs": [
    {
     "name": "stdout",
     "output_type": "stream",
     "text": [
      "Min area  -  0.0\n",
      "Max area -  1090.84\n",
      "Min temp -  2.2\n",
      "Max temp -  33.3\n",
      "Null Values - month            0\n",
      "day              0\n",
      "FFMC             0\n",
      "DMC              0\n",
      "DC               0\n",
      "ISI              0\n",
      "temp             0\n",
      "RH               0\n",
      "wind             0\n",
      "rain             0\n",
      "area             0\n",
      "dayfri           0\n",
      "daymon           0\n",
      "daysat           0\n",
      "daysun           0\n",
      "daythu           0\n",
      "daytue           0\n",
      "daywed           0\n",
      "monthapr         0\n",
      "monthaug         0\n",
      "monthdec         0\n",
      "monthfeb         0\n",
      "monthjan         0\n",
      "monthjul         0\n",
      "monthjun         0\n",
      "monthmar         0\n",
      "monthmay         0\n",
      "monthnov         0\n",
      "monthoct         0\n",
      "monthsep         0\n",
      "size_category    0\n",
      "dtype: int64\n"
     ]
    }
   ],
   "source": [
    "## Data Reading Basic Steps :-\n",
    "print('Min area  - ',df['area'].min())\n",
    "print('Max area - ',df['area'].max())\n",
    "print('Min temp - ',df['temp'].min())\n",
    "print('Max temp - ',df['temp'].max())\n",
    "print('Null Values -',df.isnull().sum())"
   ]
  },
  {
   "cell_type": "code",
   "execution_count": 8,
   "id": "cb403483-bb6a-45ef-b4e5-6f96e923ac08",
   "metadata": {
    "scrolled": true
   },
   "outputs": [
    {
     "name": "stdout",
     "output_type": "stream",
     "text": [
      "DataSet Information -\n",
      "              FFMC         DMC          DC         ISI        temp          RH  \\\n",
      "count  517.000000  517.000000  517.000000  517.000000  517.000000  517.000000   \n",
      "mean    90.644681  110.872340  547.940039    9.021663   18.889168   44.288201   \n",
      "std      5.520111   64.046482  248.066192    4.559477    5.806625   16.317469   \n",
      "min     18.700000    1.100000    7.900000    0.000000    2.200000   15.000000   \n",
      "25%     90.200000   68.600000  437.700000    6.500000   15.500000   33.000000   \n",
      "50%     91.600000  108.300000  664.200000    8.400000   19.300000   42.000000   \n",
      "75%     92.900000  142.400000  713.900000   10.800000   22.800000   53.000000   \n",
      "max     96.200000  291.300000  860.600000   56.100000   33.300000  100.000000   \n",
      "\n",
      "             wind        rain         area      dayfri  ...    monthdec  \\\n",
      "count  517.000000  517.000000   517.000000  517.000000  ...  517.000000   \n",
      "mean     4.017602    0.021663    12.847292    0.164410  ...    0.017408   \n",
      "std      1.791653    0.295959    63.655818    0.371006  ...    0.130913   \n",
      "min      0.400000    0.000000     0.000000    0.000000  ...    0.000000   \n",
      "25%      2.700000    0.000000     0.000000    0.000000  ...    0.000000   \n",
      "50%      4.000000    0.000000     0.520000    0.000000  ...    0.000000   \n",
      "75%      4.900000    0.000000     6.570000    0.000000  ...    0.000000   \n",
      "max      9.400000    6.400000  1090.840000    1.000000  ...    1.000000   \n",
      "\n",
      "         monthfeb    monthjan    monthjul    monthjun    monthmar    monthmay  \\\n",
      "count  517.000000  517.000000  517.000000  517.000000  517.000000  517.000000   \n",
      "mean     0.038685    0.003868    0.061896    0.032882    0.104449    0.003868   \n",
      "std      0.193029    0.062137    0.241199    0.178500    0.306138    0.062137   \n",
      "min      0.000000    0.000000    0.000000    0.000000    0.000000    0.000000   \n",
      "25%      0.000000    0.000000    0.000000    0.000000    0.000000    0.000000   \n",
      "50%      0.000000    0.000000    0.000000    0.000000    0.000000    0.000000   \n",
      "75%      0.000000    0.000000    0.000000    0.000000    0.000000    0.000000   \n",
      "max      1.000000    1.000000    1.000000    1.000000    1.000000    1.000000   \n",
      "\n",
      "         monthnov    monthoct    monthsep  \n",
      "count  517.000000  517.000000  517.000000  \n",
      "mean     0.001934    0.029014    0.332689  \n",
      "std      0.043980    0.168007    0.471632  \n",
      "min      0.000000    0.000000    0.000000  \n",
      "25%      0.000000    0.000000    0.000000  \n",
      "50%      0.000000    0.000000    0.000000  \n",
      "75%      0.000000    0.000000    1.000000  \n",
      "max      1.000000    1.000000    1.000000  \n",
      "\n",
      "[8 rows x 28 columns]\n"
     ]
    }
   ],
   "source": [
    "#  Checking Data Information \n",
    "print('DataSet Information -\\n',df.describe())"
   ]
  },
  {
   "cell_type": "code",
   "execution_count": 54,
   "id": "94e52235-c2bd-4692-9bd8-1341bc2111c9",
   "metadata": {},
   "outputs": [],
   "source": [
    "from sklearn.preprocessing import LabelEncoder\n",
    "label_encoder = LabelEncoder()"
   ]
  },
  {
   "cell_type": "code",
   "execution_count": 55,
   "id": "87b451b9-6641-4231-aa39-0f416c6715e3",
   "metadata": {},
   "outputs": [],
   "source": [
    "df['size_category'] = label_encoder.fit_transform(df['size_category'])"
   ]
  },
  {
   "cell_type": "code",
   "execution_count": 56,
   "id": "6dc135d1-280b-4d12-97eb-cc3a318be99f",
   "metadata": {},
   "outputs": [
    {
     "data": {
      "text/html": [
       "<div>\n",
       "<style scoped>\n",
       "    .dataframe tbody tr th:only-of-type {\n",
       "        vertical-align: middle;\n",
       "    }\n",
       "\n",
       "    .dataframe tbody tr th {\n",
       "        vertical-align: top;\n",
       "    }\n",
       "\n",
       "    .dataframe thead th {\n",
       "        text-align: right;\n",
       "    }\n",
       "</style>\n",
       "<table border=\"1\" class=\"dataframe\">\n",
       "  <thead>\n",
       "    <tr style=\"text-align: right;\">\n",
       "      <th></th>\n",
       "      <th>month</th>\n",
       "      <th>day</th>\n",
       "      <th>FFMC</th>\n",
       "      <th>DMC</th>\n",
       "      <th>DC</th>\n",
       "      <th>ISI</th>\n",
       "      <th>temp</th>\n",
       "      <th>RH</th>\n",
       "      <th>wind</th>\n",
       "      <th>rain</th>\n",
       "      <th>...</th>\n",
       "      <th>monthfeb</th>\n",
       "      <th>monthjan</th>\n",
       "      <th>monthjul</th>\n",
       "      <th>monthjun</th>\n",
       "      <th>monthmar</th>\n",
       "      <th>monthmay</th>\n",
       "      <th>monthnov</th>\n",
       "      <th>monthoct</th>\n",
       "      <th>monthsep</th>\n",
       "      <th>size_category</th>\n",
       "    </tr>\n",
       "  </thead>\n",
       "  <tbody>\n",
       "    <tr>\n",
       "      <th>0</th>\n",
       "      <td>mar</td>\n",
       "      <td>fri</td>\n",
       "      <td>86.2</td>\n",
       "      <td>26.2</td>\n",
       "      <td>94.3</td>\n",
       "      <td>5.1</td>\n",
       "      <td>8.2</td>\n",
       "      <td>51</td>\n",
       "      <td>6.7</td>\n",
       "      <td>0.0</td>\n",
       "      <td>...</td>\n",
       "      <td>0</td>\n",
       "      <td>0</td>\n",
       "      <td>0</td>\n",
       "      <td>0</td>\n",
       "      <td>1</td>\n",
       "      <td>0</td>\n",
       "      <td>0</td>\n",
       "      <td>0</td>\n",
       "      <td>0</td>\n",
       "      <td>1</td>\n",
       "    </tr>\n",
       "    <tr>\n",
       "      <th>1</th>\n",
       "      <td>oct</td>\n",
       "      <td>tue</td>\n",
       "      <td>90.6</td>\n",
       "      <td>35.4</td>\n",
       "      <td>669.1</td>\n",
       "      <td>6.7</td>\n",
       "      <td>18.0</td>\n",
       "      <td>33</td>\n",
       "      <td>0.9</td>\n",
       "      <td>0.0</td>\n",
       "      <td>...</td>\n",
       "      <td>0</td>\n",
       "      <td>0</td>\n",
       "      <td>0</td>\n",
       "      <td>0</td>\n",
       "      <td>0</td>\n",
       "      <td>0</td>\n",
       "      <td>0</td>\n",
       "      <td>1</td>\n",
       "      <td>0</td>\n",
       "      <td>1</td>\n",
       "    </tr>\n",
       "  </tbody>\n",
       "</table>\n",
       "<p>2 rows × 31 columns</p>\n",
       "</div>"
      ],
      "text/plain": [
       "  month  day  FFMC   DMC     DC  ISI  temp  RH  wind  rain  ...  monthfeb  \\\n",
       "0   mar  fri  86.2  26.2   94.3  5.1   8.2  51   6.7   0.0  ...         0   \n",
       "1   oct  tue  90.6  35.4  669.1  6.7  18.0  33   0.9   0.0  ...         0   \n",
       "\n",
       "   monthjan  monthjul  monthjun  monthmar  monthmay  monthnov  monthoct  \\\n",
       "0         0         0         0         1         0         0         0   \n",
       "1         0         0         0         0         0         0         1   \n",
       "\n",
       "   monthsep  size_category  \n",
       "0         0              1  \n",
       "1         0              1  \n",
       "\n",
       "[2 rows x 31 columns]"
      ]
     },
     "execution_count": 56,
     "metadata": {},
     "output_type": "execute_result"
    }
   ],
   "source": [
    "df.head(2)"
   ]
  },
  {
   "cell_type": "code",
   "execution_count": 60,
   "id": "9dc86a9e-f164-45c7-af18-4de2810960e7",
   "metadata": {},
   "outputs": [],
   "source": [
    "## Now we starting the training & Testing for data - \n",
    "X = df.drop(['month','size_category','day'],axis = 1)\n",
    "y = df['size_category']"
   ]
  },
  {
   "cell_type": "code",
   "execution_count": 61,
   "id": "4e2f4c3c-5b6a-4460-9dae-ba439a7e80ca",
   "metadata": {},
   "outputs": [
    {
     "data": {
      "text/html": [
       "<div>\n",
       "<style scoped>\n",
       "    .dataframe tbody tr th:only-of-type {\n",
       "        vertical-align: middle;\n",
       "    }\n",
       "\n",
       "    .dataframe tbody tr th {\n",
       "        vertical-align: top;\n",
       "    }\n",
       "\n",
       "    .dataframe thead th {\n",
       "        text-align: right;\n",
       "    }\n",
       "</style>\n",
       "<table border=\"1\" class=\"dataframe\">\n",
       "  <thead>\n",
       "    <tr style=\"text-align: right;\">\n",
       "      <th></th>\n",
       "      <th>FFMC</th>\n",
       "      <th>DMC</th>\n",
       "      <th>DC</th>\n",
       "      <th>ISI</th>\n",
       "      <th>temp</th>\n",
       "      <th>RH</th>\n",
       "      <th>wind</th>\n",
       "      <th>rain</th>\n",
       "      <th>area</th>\n",
       "      <th>dayfri</th>\n",
       "      <th>...</th>\n",
       "      <th>monthdec</th>\n",
       "      <th>monthfeb</th>\n",
       "      <th>monthjan</th>\n",
       "      <th>monthjul</th>\n",
       "      <th>monthjun</th>\n",
       "      <th>monthmar</th>\n",
       "      <th>monthmay</th>\n",
       "      <th>monthnov</th>\n",
       "      <th>monthoct</th>\n",
       "      <th>monthsep</th>\n",
       "    </tr>\n",
       "  </thead>\n",
       "  <tbody>\n",
       "    <tr>\n",
       "      <th>0</th>\n",
       "      <td>86.2</td>\n",
       "      <td>26.2</td>\n",
       "      <td>94.3</td>\n",
       "      <td>5.1</td>\n",
       "      <td>8.2</td>\n",
       "      <td>51</td>\n",
       "      <td>6.7</td>\n",
       "      <td>0.0</td>\n",
       "      <td>0.0</td>\n",
       "      <td>1</td>\n",
       "      <td>...</td>\n",
       "      <td>0</td>\n",
       "      <td>0</td>\n",
       "      <td>0</td>\n",
       "      <td>0</td>\n",
       "      <td>0</td>\n",
       "      <td>1</td>\n",
       "      <td>0</td>\n",
       "      <td>0</td>\n",
       "      <td>0</td>\n",
       "      <td>0</td>\n",
       "    </tr>\n",
       "    <tr>\n",
       "      <th>1</th>\n",
       "      <td>90.6</td>\n",
       "      <td>35.4</td>\n",
       "      <td>669.1</td>\n",
       "      <td>6.7</td>\n",
       "      <td>18.0</td>\n",
       "      <td>33</td>\n",
       "      <td>0.9</td>\n",
       "      <td>0.0</td>\n",
       "      <td>0.0</td>\n",
       "      <td>0</td>\n",
       "      <td>...</td>\n",
       "      <td>0</td>\n",
       "      <td>0</td>\n",
       "      <td>0</td>\n",
       "      <td>0</td>\n",
       "      <td>0</td>\n",
       "      <td>0</td>\n",
       "      <td>0</td>\n",
       "      <td>0</td>\n",
       "      <td>1</td>\n",
       "      <td>0</td>\n",
       "    </tr>\n",
       "  </tbody>\n",
       "</table>\n",
       "<p>2 rows × 28 columns</p>\n",
       "</div>"
      ],
      "text/plain": [
       "   FFMC   DMC     DC  ISI  temp  RH  wind  rain  area  dayfri  ...  monthdec  \\\n",
       "0  86.2  26.2   94.3  5.1   8.2  51   6.7   0.0   0.0       1  ...         0   \n",
       "1  90.6  35.4  669.1  6.7  18.0  33   0.9   0.0   0.0       0  ...         0   \n",
       "\n",
       "   monthfeb  monthjan  monthjul  monthjun  monthmar  monthmay  monthnov  \\\n",
       "0         0         0         0         0         1         0         0   \n",
       "1         0         0         0         0         0         0         0   \n",
       "\n",
       "   monthoct  monthsep  \n",
       "0         0         0  \n",
       "1         1         0  \n",
       "\n",
       "[2 rows x 28 columns]"
      ]
     },
     "execution_count": 61,
     "metadata": {},
     "output_type": "execute_result"
    }
   ],
   "source": [
    "X.head(2)"
   ]
  },
  {
   "cell_type": "code",
   "execution_count": 62,
   "id": "5597e15c-6374-44ec-8e25-05a2e32592f8",
   "metadata": {},
   "outputs": [
    {
     "data": {
      "text/plain": [
       "0    1\n",
       "1    1\n",
       "Name: size_category, dtype: int32"
      ]
     },
     "execution_count": 62,
     "metadata": {},
     "output_type": "execute_result"
    }
   ],
   "source": [
    "y.head(2)"
   ]
  },
  {
   "cell_type": "code",
   "execution_count": 63,
   "id": "29ec12fe-d15f-4eed-8d69-4c103e2bba59",
   "metadata": {},
   "outputs": [],
   "source": [
    "X_train , X_test , y_train , y_test =train_test_split(X,y,test_size=0.20,random_state=12)"
   ]
  },
  {
   "cell_type": "code",
   "execution_count": 64,
   "id": "9c22d635-96f0-46b6-af64-98aa404e2dfb",
   "metadata": {},
   "outputs": [
    {
     "data": {
      "text/plain": [
       "((413, 28), (413,))"
      ]
     },
     "execution_count": 64,
     "metadata": {},
     "output_type": "execute_result"
    }
   ],
   "source": [
    "X_train.shape , y_train.shape"
   ]
  },
  {
   "cell_type": "code",
   "execution_count": 65,
   "id": "4c7b5194-61e5-4aca-8692-1d3d98fd2273",
   "metadata": {},
   "outputs": [
    {
     "data": {
      "text/plain": [
       "((104, 28), (104,))"
      ]
     },
     "execution_count": 65,
     "metadata": {},
     "output_type": "execute_result"
    }
   ],
   "source": [
    "X_test.shape , y_test.shape"
   ]
  },
  {
   "cell_type": "code",
   "execution_count": 95,
   "id": "fd2e1fe9-3204-4731-a964-c78ab5de06af",
   "metadata": {},
   "outputs": [
    {
     "data": {
      "text/html": [
       "<style>#sk-container-id-5 {color: black;background-color: white;}#sk-container-id-5 pre{padding: 0;}#sk-container-id-5 div.sk-toggleable {background-color: white;}#sk-container-id-5 label.sk-toggleable__label {cursor: pointer;display: block;width: 100%;margin-bottom: 0;padding: 0.3em;box-sizing: border-box;text-align: center;}#sk-container-id-5 label.sk-toggleable__label-arrow:before {content: \"▸\";float: left;margin-right: 0.25em;color: #696969;}#sk-container-id-5 label.sk-toggleable__label-arrow:hover:before {color: black;}#sk-container-id-5 div.sk-estimator:hover label.sk-toggleable__label-arrow:before {color: black;}#sk-container-id-5 div.sk-toggleable__content {max-height: 0;max-width: 0;overflow: hidden;text-align: left;background-color: #f0f8ff;}#sk-container-id-5 div.sk-toggleable__content pre {margin: 0.2em;color: black;border-radius: 0.25em;background-color: #f0f8ff;}#sk-container-id-5 input.sk-toggleable__control:checked~div.sk-toggleable__content {max-height: 200px;max-width: 100%;overflow: auto;}#sk-container-id-5 input.sk-toggleable__control:checked~label.sk-toggleable__label-arrow:before {content: \"▾\";}#sk-container-id-5 div.sk-estimator input.sk-toggleable__control:checked~label.sk-toggleable__label {background-color: #d4ebff;}#sk-container-id-5 div.sk-label input.sk-toggleable__control:checked~label.sk-toggleable__label {background-color: #d4ebff;}#sk-container-id-5 input.sk-hidden--visually {border: 0;clip: rect(1px 1px 1px 1px);clip: rect(1px, 1px, 1px, 1px);height: 1px;margin: -1px;overflow: hidden;padding: 0;position: absolute;width: 1px;}#sk-container-id-5 div.sk-estimator {font-family: monospace;background-color: #f0f8ff;border: 1px dotted black;border-radius: 0.25em;box-sizing: border-box;margin-bottom: 0.5em;}#sk-container-id-5 div.sk-estimator:hover {background-color: #d4ebff;}#sk-container-id-5 div.sk-parallel-item::after {content: \"\";width: 100%;border-bottom: 1px solid gray;flex-grow: 1;}#sk-container-id-5 div.sk-label:hover label.sk-toggleable__label {background-color: #d4ebff;}#sk-container-id-5 div.sk-serial::before {content: \"\";position: absolute;border-left: 1px solid gray;box-sizing: border-box;top: 0;bottom: 0;left: 50%;z-index: 0;}#sk-container-id-5 div.sk-serial {display: flex;flex-direction: column;align-items: center;background-color: white;padding-right: 0.2em;padding-left: 0.2em;position: relative;}#sk-container-id-5 div.sk-item {position: relative;z-index: 1;}#sk-container-id-5 div.sk-parallel {display: flex;align-items: stretch;justify-content: center;background-color: white;position: relative;}#sk-container-id-5 div.sk-item::before, #sk-container-id-5 div.sk-parallel-item::before {content: \"\";position: absolute;border-left: 1px solid gray;box-sizing: border-box;top: 0;bottom: 0;left: 50%;z-index: -1;}#sk-container-id-5 div.sk-parallel-item {display: flex;flex-direction: column;z-index: 1;position: relative;background-color: white;}#sk-container-id-5 div.sk-parallel-item:first-child::after {align-self: flex-end;width: 50%;}#sk-container-id-5 div.sk-parallel-item:last-child::after {align-self: flex-start;width: 50%;}#sk-container-id-5 div.sk-parallel-item:only-child::after {width: 0;}#sk-container-id-5 div.sk-dashed-wrapped {border: 1px dashed gray;margin: 0 0.4em 0.5em 0.4em;box-sizing: border-box;padding-bottom: 0.4em;background-color: white;}#sk-container-id-5 div.sk-label label {font-family: monospace;font-weight: bold;display: inline-block;line-height: 1.2em;}#sk-container-id-5 div.sk-label-container {text-align: center;}#sk-container-id-5 div.sk-container {/* jupyter's `normalize.less` sets `[hidden] { display: none; }` but bootstrap.min.css set `[hidden] { display: none !important; }` so we also need the `!important` here to be able to override the default hidden behavior on the sphinx rendered scikit-learn.org. See: https://github.com/scikit-learn/scikit-learn/issues/21755 */display: inline-block !important;position: relative;}#sk-container-id-5 div.sk-text-repr-fallback {display: none;}</style><div id=\"sk-container-id-5\" class=\"sk-top-container\"><div class=\"sk-text-repr-fallback\"><pre>MLPRegressor(hidden_layer_sizes=(40, 3), max_iter=1000)</pre><b>In a Jupyter environment, please rerun this cell to show the HTML representation or trust the notebook. <br />On GitHub, the HTML representation is unable to render, please try loading this page with nbviewer.org.</b></div><div class=\"sk-container\" hidden><div class=\"sk-item\"><div class=\"sk-estimator sk-toggleable\"><input class=\"sk-toggleable__control sk-hidden--visually\" id=\"sk-estimator-id-5\" type=\"checkbox\" checked><label for=\"sk-estimator-id-5\" class=\"sk-toggleable__label sk-toggleable__label-arrow\">MLPRegressor</label><div class=\"sk-toggleable__content\"><pre>MLPRegressor(hidden_layer_sizes=(40, 3), max_iter=1000)</pre></div></div></div></div></div>"
      ],
      "text/plain": [
       "MLPRegressor(hidden_layer_sizes=(40, 3), max_iter=1000)"
      ]
     },
     "execution_count": 95,
     "metadata": {},
     "output_type": "execute_result"
    }
   ],
   "source": [
    "from sklearn.neural_network import MLPRegressor\n",
    "\n",
    "# Initialize the model with similar parameters\n",
    "model = MLPRegressor(hidden_layer_sizes=(40, 3), activation='relu', max_iter=1000)\n",
    "\n",
    "# Train the model\n",
    "model.fit(X_train, y_train)"
   ]
  },
  {
   "cell_type": "code",
   "execution_count": 97,
   "id": "35b6ca17-1dd7-4f8b-acc3-dc5798b07c57",
   "metadata": {
    "scrolled": true
   },
   "outputs": [
    {
     "data": {
      "text/plain": [
       "array([ 1.18030061,  0.69013435,  0.7401261 ,  1.0152106 ,  1.29875124,\n",
       "        0.18317676,  0.20031642,  1.61092266,  0.38942649,  0.54633185,\n",
       "        0.79500998,  0.0349767 ,  0.04701513,  1.25500077,  0.33617727,\n",
       "       -0.11939115,  0.52498036,  0.69447811,  1.03786774,  0.64800334,\n",
       "        0.92843595, -0.92118176,  1.44396058,  1.00763566,  1.58766557,\n",
       "        0.85246076,  1.02334651,  0.85133033,  0.78742622,  0.69097273,\n",
       "        0.54048234,  0.84150382,  1.09343778,  0.88037809,  0.48437158,\n",
       "        0.71977039,  0.96703012, -0.09750523,  1.23095416,  0.80055923,\n",
       "        0.72509391,  0.85546652,  1.12949058,  0.71265119,  1.06465927,\n",
       "        1.31648615,  0.70523898,  0.72121585,  0.35161003,  1.76470325,\n",
       "       -0.45451909,  1.40030563,  0.32858532,  1.83654604,  1.71942277,\n",
       "        0.16845026, -0.58881648,  1.62358371,  0.13455173,  1.09145389,\n",
       "        0.49178091,  0.36926377,  0.57349211,  0.63827131,  1.22095359,\n",
       "        0.94546457,  0.7160946 ,  1.18561002,  0.40064975, -0.12682369,\n",
       "        0.79010125,  0.83866604,  0.68466207,  0.74251573, -0.22538834,\n",
       "        0.89614038,  0.96665149,  1.26514499,  0.3563809 , -1.10122761,\n",
       "        0.61152354, -0.03460479,  0.70486408,  0.73022564, -0.16670527,\n",
       "        1.00820352,  1.14644589, -0.19129208,  1.78199963,  1.73896222,\n",
       "        0.6843662 , -0.20329603,  1.46060382, -0.18068302,  1.13111944,\n",
       "        0.94318434,  1.06081742,  0.78294053, -1.12395832,  1.1685418 ,\n",
       "        2.00067365,  1.17141369,  1.36187022,  0.70343721])"
      ]
     },
     "execution_count": 97,
     "metadata": {},
     "output_type": "execute_result"
    }
   ],
   "source": [
    "pred =model.predict(X_test)\n",
    "pred"
   ]
  },
  {
   "cell_type": "code",
   "execution_count": 98,
   "id": "6eeb9ed3-8110-432d-92d9-799be756d4cb",
   "metadata": {},
   "outputs": [],
   "source": [
    "predictions = model.predict(X_test)  # Use predict for regression\n",
    "from sklearn.neural_network import MLPClassifier\n",
    "\n",
    "# Example for classification\n",
    "model = MLPClassifier()\n",
    "model.fit(X_train, y_train)\n",
    "probabilities = model.predict_proba(X_test)  # Now predict_proba works\n"
   ]
  },
  {
   "cell_type": "code",
   "execution_count": 99,
   "id": "8708a855-8ba4-4d8e-b4ce-ce18b2655c11",
   "metadata": {},
   "outputs": [],
   "source": [
    "y_test_binary = (y_test > 0.5).astype(int)\n",
    "y_pred_binary = (y_pred > 0.5).astype(int)"
   ]
  },
  {
   "cell_type": "code",
   "execution_count": 100,
   "id": "33bb8151-233d-4fd4-b8e8-b907bcc7eb48",
   "metadata": {},
   "outputs": [
    {
     "name": "stdout",
     "output_type": "stream",
     "text": [
      "Binary Accuracy Score: 0.9423076923076923\n"
     ]
    }
   ],
   "source": [
    "accuracy = accuracy_score(y_test_binary, y_pred_binary)\n",
    "print(\"Binary Accuracy Score:\", accuracy)"
   ]
  },
  {
   "cell_type": "code",
   "execution_count": 101,
   "id": "a1e1b708-2888-4aba-a733-1868c4a0bad7",
   "metadata": {},
   "outputs": [
    {
     "name": "stdout",
     "output_type": "stream",
     "text": [
      "Mean Squared Error: 0.362273976312783\n",
      "Mean Absolute Error: 0.456688486284791\n",
      "R-squared Score: -0.6225073821114124\n"
     ]
    }
   ],
   "source": [
    "from sklearn.metrics import mean_squared_error, mean_absolute_error, r2_score\n",
    "\n",
    "# Assuming y_test contains the true values and y_pred contains the predicted values\n",
    "mse = mean_squared_error(y_test, pred)\n",
    "mae = mean_absolute_error(y_test, pred)\n",
    "r2 = r2_score(y_test, pred)\n",
    "\n",
    "print(\"Mean Squared Error:\", mse)\n",
    "print(\"Mean Absolute Error:\", mae)\n",
    "print(\"R-squared Score:\", r2)\n"
   ]
  },
  {
   "cell_type": "code",
   "execution_count": 103,
   "id": "25e5b452-1b60-4923-b03e-233821a149ff",
   "metadata": {},
   "outputs": [
    {
     "name": "stdout",
     "output_type": "stream",
     "text": [
      "Confusion Matrix:\n",
      " [[29  6]\n",
      " [ 0 69]]\n"
     ]
    }
   ],
   "source": [
    "conf_matrix = confusion_matrix(y_test_binary, y_pred_binary)\n",
    "print(\"Confusion Matrix:\\n\", conf_matrix)"
   ]
  },
  {
   "cell_type": "code",
   "execution_count": null,
   "id": "dbb04325-0263-4127-b24e-b16a248c64fd",
   "metadata": {},
   "outputs": [],
   "source": []
  },
  {
   "cell_type": "code",
   "execution_count": null,
   "id": "57f00f76-1e8c-4e86-bcba-0f00ecd9394f",
   "metadata": {},
   "outputs": [],
   "source": []
  }
 ],
 "metadata": {
  "kernelspec": {
   "display_name": "Python 3 (ipykernel)",
   "language": "python",
   "name": "python3"
  },
  "language_info": {
   "codemirror_mode": {
    "name": "ipython",
    "version": 3
   },
   "file_extension": ".py",
   "mimetype": "text/x-python",
   "name": "python",
   "nbconvert_exporter": "python",
   "pygments_lexer": "ipython3",
   "version": "3.11.7"
  }
 },
 "nbformat": 4,
 "nbformat_minor": 5
}
